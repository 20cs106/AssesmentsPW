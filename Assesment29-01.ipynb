{
 "cells": [
  {
   "cell_type": "markdown",
   "id": "f6c4abe0-17c7-4ec6-b792-8c78e393a52d",
   "metadata": {},
   "source": [
    "Ans 1: Python was developed by Guido Van Rossum"
   ]
  },
  {
   "cell_type": "markdown",
   "id": "09d94d74-da50-43fb-90ce-a53e6339d9af",
   "metadata": {},
   "source": [
    "Ans2: Python supports three programming paradigms:\n",
    "    imperative , fucntional , and object-oriented"
   ]
  },
  {
   "cell_type": "markdown",
   "id": "eff6a03b-1eeb-4bf4-a453-5d725f895439",
   "metadata": {},
   "source": [
    "Ans3: Yes python is a case sensitive language when dealing with identifiers"
   ]
  },
  {
   "cell_type": "markdown",
   "id": "e43229d0-a23d-4ddc-87fd-15ec3795504d",
   "metadata": {},
   "source": [
    "Ans4: Correct extension of a python file is \\ \" .py\\\"\""
   ]
  },
  {
   "cell_type": "markdown",
   "id": "7952c880-1e41-4204-a93c-90a7175435ad",
   "metadata": {},
   "source": [
    "Ans5: Python is an interpreted language. Hence its code is interpreted."
   ]
  },
  {
   "cell_type": "markdown",
   "id": "d11a4376-9799-4d5c-a23a-bb2b109a3646",
   "metadata": {},
   "source": [
    "Ans6: In python a block of code is defined by indetation "
   ]
  },
  {
   "cell_type": "markdown",
   "id": "511bda18-7e5f-4090-826f-6325f66640ed",
   "metadata": {},
   "source": [
    "Ans7: The has character \\ \" # \\\" is used to give single line comments in python."
   ]
  },
  {
   "cell_type": "markdown",
   "id": "a7377e1b-bcda-4428-9daa-c1350fea116d",
   "metadata": {},
   "source": [
    "Ans8: By importing the platform module and calling the python_version () method."
   ]
  },
  {
   "cell_type": "markdown",
   "id": "68ef0795-8b0f-4e10-89cb-5d435087ab66",
   "metadata": {},
   "source": [
    "Ans9: By calling the lambda construct python allows anonymous fuctions creation at runtime."
   ]
  },
  {
   "cell_type": "markdown",
   "id": "6403a475-29da-4cbb-9d13-21e096d7360a",
   "metadata": {},
   "source": [
    "Ans10: Pip stands for \"preferred installer program\"."
   ]
  },
  {
   "cell_type": "markdown",
   "id": "6a4f7f34-f5ca-4940-86cb-3cfef03570a2",
   "metadata": {},
   "source": [
    "Ans11: Few built-in functions in python are \"print\",\"input\",\"int\"."
   ]
  },
  {
   "cell_type": "markdown",
   "id": "a8bd1b8b-f6af-40bc-b46f-b17f15d8d26b",
   "metadata": {},
   "source": [
    "Ans12: Maximum possible length of an identifirers can be 79 characters."
   ]
  },
  {
   "cell_type": "markdown",
   "id": "bcb0ad34-bdea-45ba-a7e7-563e83933486",
   "metadata": {},
   "source": [
    "Ans13: Benefits of pyhton \n",
    "1. High level programming language so it has english like syntax.\n",
    "2.Easy to learn syntax\n",
    "3.Open source language dynamically typed.\n"
   ]
  },
  {
   "cell_type": "markdown",
   "id": "78ad3fc6-09f5-47e2-979e-321b1d4bb628",
   "metadata": {},
   "source": [
    "Ans14: Memory mangament  in python involves a private heap containing all pyhton objects and data structures.The management of this private heap is ensured internally by the python memory manager."
   ]
  },
  {
   "cell_type": "markdown",
   "id": "c62b08e4-fc89-428c-a71a-e51935a20e5c",
   "metadata": {},
   "source": [
    "Ans15: Install python from the web on the official site. During the wizard tick the option of Add to path "
   ]
  },
  {
   "cell_type": "markdown",
   "id": "9acadff5-c7cc-46e5-ab82-a87ccf7ab13c",
   "metadata": {},
   "source": [
    "Ans16: When defining a block of code identations are necessary ."
   ]
  },
  {
   "cell_type": "code",
   "execution_count": null,
   "id": "0b1d982d-f76f-43c2-8263-4165dd914bf1",
   "metadata": {},
   "outputs": [],
   "source": []
  }
 ],
 "metadata": {
  "kernelspec": {
   "display_name": "Python 3 (ipykernel)",
   "language": "python",
   "name": "python3"
  },
  "language_info": {
   "codemirror_mode": {
    "name": "ipython",
    "version": 3
   },
   "file_extension": ".py",
   "mimetype": "text/x-python",
   "name": "python",
   "nbconvert_exporter": "python",
   "pygments_lexer": "ipython3",
   "version": "3.10.8"
  }
 },
 "nbformat": 4,
 "nbformat_minor": 5
}
