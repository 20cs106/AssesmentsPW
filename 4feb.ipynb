{
 "cells": [
  {
   "cell_type": "markdown",
   "id": "384422d4-94bd-4ff4-aeb4-45f6f0473917",
   "metadata": {},
   "source": [
    "Ans1:"
   ]
  },
  {
   "cell_type": "code",
   "execution_count": null,
   "id": "c4162b87-9a82-4757-a582-b83feb18af47",
   "metadata": {},
   "outputs": [],
   "source": [
    "t1 = [('Sachin tendulkar',34457),('Rickey Ponting',27483),('Jack Kallis',25534),('Virat Kohli',24936)]"
   ]
  },
  {
   "cell_type": "code",
   "execution_count": null,
   "id": "a877e010-7530-43f4-96bc-7f2bb76f40d6",
   "metadata": {},
   "outputs": [],
   "source": [
    "print(t1)\n",
    "newlist = sorted(t1,key = lambda x: x[1])\n",
    "print(\"sorted list: \",newlist)"
   ]
  },
  {
   "cell_type": "markdown",
   "id": "3159fae9-c942-44b7-ab64-3b4417d4008d",
   "metadata": {},
   "source": [
    "Ans2:"
   ]
  },
  {
   "cell_type": "code",
   "execution_count": 1,
   "id": "e6cbe8c4-abfd-4b3f-9892-e69df6c67ba7",
   "metadata": {},
   "outputs": [],
   "source": [
    "numbers = [1,2,3,4,5,6,7,8,9,10]"
   ]
  },
  {
   "cell_type": "code",
   "execution_count": 7,
   "id": "a2bb06f0-ba5b-4590-8420-a7225796f5fd",
   "metadata": {},
   "outputs": [
    {
     "data": {
      "text/plain": [
       "[1, 4, 9, 16, 25, 36, 49, 64, 81, 100]"
      ]
     },
     "execution_count": 7,
     "metadata": {},
     "output_type": "execute_result"
    }
   ],
   "source": [
    "list(map(lambda x : x**2,numbers))\n",
    "    "
   ]
  },
  {
   "cell_type": "markdown",
   "id": "5fd6f94d-33ca-4f2d-9a8f-07828c546f48",
   "metadata": {},
   "source": [
    "Ans3:"
   ]
  },
  {
   "cell_type": "code",
   "execution_count": 8,
   "id": "1ee7da19-b928-4435-9308-4549b97e9e33",
   "metadata": {},
   "outputs": [],
   "source": [
    "n1 = [1,2,3,4,5,6,8,9]\n"
   ]
  },
  {
   "cell_type": "code",
   "execution_count": 16,
   "id": "cc387aed-100e-466c-aa72-97d55eed5478",
   "metadata": {},
   "outputs": [
    {
     "data": {
      "text/plain": [
       "['1', '2', '3', '4', '5', '6', '8', '9']"
      ]
     },
     "execution_count": 16,
     "metadata": {},
     "output_type": "execute_result"
    }
   ],
   "source": [
    "list(map(lambda x : str(x),n1))"
   ]
  },
  {
   "cell_type": "markdown",
   "id": "74613b35-4367-4391-b2f3-462d91c95208",
   "metadata": {},
   "source": [
    "Ans4:"
   ]
  },
  {
   "cell_type": "code",
   "execution_count": 18,
   "id": "e0b48a5d-4c75-472e-a6df-b83ca3f127c7",
   "metadata": {},
   "outputs": [],
   "source": [
    "test1 = [1,2,3,4,5,6,7,8,9,10,11,12,13,14,15,16,17,18,19,20,21,22,23,24,25]\n",
    "from functools import reduce\n"
   ]
  },
  {
   "cell_type": "code",
   "execution_count": 19,
   "id": "e8d840df-b674-423e-b6cb-51ec206d930c",
   "metadata": {},
   "outputs": [
    {
     "data": {
      "text/plain": [
       "15511210043330985984000000"
      ]
     },
     "execution_count": 19,
     "metadata": {},
     "output_type": "execute_result"
    }
   ],
   "source": [
    "reduce(lambda x,y : x*y,test1)"
   ]
  },
  {
   "cell_type": "markdown",
   "id": "7bdff718-985e-466f-97c8-1df1c724953e",
   "metadata": {},
   "source": [
    "Ans5:"
   ]
  },
  {
   "cell_type": "code",
   "execution_count": 21,
   "id": "3a9da898-3748-45e1-88c2-a446511232e6",
   "metadata": {},
   "outputs": [
    {
     "data": {
      "text/plain": [
       "[6, 60, 90, 120]"
      ]
     },
     "execution_count": 21,
     "metadata": {},
     "output_type": "execute_result"
    }
   ],
   "source": [
    "test2 = [2,3,6,9,27,60,90,120,55,46]\n",
    "\n",
    "list(filter(lambda x : x%2==0 and x%3==0 , test2))"
   ]
  },
  {
   "cell_type": "markdown",
   "id": "cc74323e-0913-4215-a5cc-7db89e060d76",
   "metadata": {},
   "source": [
    "Ans6:"
   ]
  },
  {
   "cell_type": "code",
   "execution_count": 22,
   "id": "22edc73d-16d8-4b76-8ec9-04c3f4a3ce37",
   "metadata": {},
   "outputs": [],
   "source": [
    "mylst = [\"python\",\"phpp\",\"aba\",\"radar\",\"level\"]"
   ]
  },
  {
   "cell_type": "code",
   "execution_count": 23,
   "id": "ae217982-05e0-47e3-9983-637ab9b9b6a3",
   "metadata": {},
   "outputs": [
    {
     "name": "stdout",
     "output_type": "stream",
     "text": [
      "['aba', 'radar', 'level']\n"
     ]
    }
   ],
   "source": [
    "result = list(filter(lambda x : (x == \"\".join(reversed(x))),mylst))\n",
    "print(result)"
   ]
  },
  {
   "cell_type": "code",
   "execution_count": null,
   "id": "48ebb374-da0d-4a44-a985-733a4596ec79",
   "metadata": {},
   "outputs": [],
   "source": []
  }
 ],
 "metadata": {
  "kernelspec": {
   "display_name": "Python 3 (ipykernel)",
   "language": "python",
   "name": "python3"
  },
  "language_info": {
   "codemirror_mode": {
    "name": "ipython",
    "version": 3
   },
   "file_extension": ".py",
   "mimetype": "text/x-python",
   "name": "python",
   "nbconvert_exporter": "python",
   "pygments_lexer": "ipython3",
   "version": "3.10.8"
  }
 },
 "nbformat": 4,
 "nbformat_minor": 5
}
